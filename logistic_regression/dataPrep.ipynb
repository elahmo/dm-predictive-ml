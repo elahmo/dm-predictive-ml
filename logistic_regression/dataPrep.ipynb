{
 "cells": [
  {
   "cell_type": "code",
   "execution_count": 2,
   "metadata": {
    "collapsed": false,
    "deletable": true,
    "editable": true,
    "scrolled": false
   },
   "outputs": [],
   "source": [
    "import numpy as np\n",
    "import pandas as pd\n",
    "from sklearn.feature_extraction.text import CountVectorizer \n",
    "import patsy\n",
    "\n",
    "file_path = \"../dataset/movie_metadata_budgets.csv\"\n",
    "dta = pd.read_csv(file_path, encoding='latin-1')\n",
    "\n",
    "pd.options.display.max_columns = 40\n",
    "#vecttor = CountVectorizer().fit()\n",
    "#patsy.dmatrix('plot_keywords - 1', data=dta)"
   ]
  },
  {
   "cell_type": "code",
   "execution_count": 19,
   "metadata": {
    "collapsed": false,
    "deletable": true,
    "editable": true
   },
   "outputs": [],
   "source": [
    "arr = np.array([\n",
    "    [\"turrtle\",40,40],\n",
    "    [\"turrtle\",60,60],\n",
    "    [\"turrtle\",80,80],\n",
    "    [\"human\",40,89],\n",
    "    [\"human\",60,89],\n",
    "    [\"human\",80,89],\n",
    "    [\"doge\",40,80],\n",
    "    [\"doge\",60,60],\n",
    "    [\"doge\",80,40],\n",
    "])\n",
    "headings = \"clas\", \"roomTemp\", \"bodyTemp\"\n",
    "\n",
    "temp = pd.DataFrame(arr, columns=headings)"
   ]
  },
  {
   "cell_type": "code",
   "execution_count": 41,
   "metadata": {
    "collapsed": false,
    "deletable": true,
    "editable": true
   },
   "outputs": [
    {
     "data": {
      "text/plain": [
       "DesignInfo(['clas[doge]:bodyTemp[40]',\n",
       "            'clas[human]:bodyTemp[40]',\n",
       "            'clas[turrtle]:bodyTemp[40]',\n",
       "            'clas[doge]:bodyTemp[60]',\n",
       "            'clas[human]:bodyTemp[60]',\n",
       "            'clas[turrtle]:bodyTemp[60]',\n",
       "            'clas[doge]:bodyTemp[80]',\n",
       "            'clas[human]:bodyTemp[80]',\n",
       "            'clas[turrtle]:bodyTemp[80]',\n",
       "            'clas[doge]:bodyTemp[89]',\n",
       "            'clas[human]:bodyTemp[89]',\n",
       "            'clas[turrtle]:bodyTemp[89]'],\n",
       "           factor_infos={EvalFactor('bodyTemp'): FactorInfo(factor=EvalFactor('bodyTemp'),\n",
       "                                    type='categorical',\n",
       "                                    state=<factor state>,\n",
       "                                    categories=('40', '60', '80', '89')),\n",
       "                         EvalFactor('clas'): FactorInfo(factor=EvalFactor('clas'),\n",
       "                                    type='categorical',\n",
       "                                    state=<factor state>,\n",
       "                                    categories=('doge', 'human', 'turrtle'))},\n",
       "           term_codings=OrderedDict([(Term([EvalFactor('clas'),\n",
       "                                            EvalFactor('bodyTemp')]),\n",
       "                                      [SubtermInfo(factors=(EvalFactor('clas'),\n",
       "                                                            EvalFactor('bodyTemp')),\n",
       "                                                   contrast_matrices={EvalFactor('bodyTemp'): ContrastMatrix(array([[ 1.,  0.,  0.,  0.],\n",
       "                                                                                            [ 0.,  1.,  0.,  0.],\n",
       "                                                                                            [ 0.,  0.,  1.,  0.],\n",
       "                                                                                            [ 0.,  0.,  0.,  1.]]),\n",
       "                                                                                     ['[40]',\n",
       "                                                                                      '[60]',\n",
       "                                                                                      '[80]',\n",
       "                                                                                      '[89]']),\n",
       "                                                                      EvalFactor('clas'): ContrastMatrix(array([[ 1.,  0.,  0.],\n",
       "                                                                                            [ 0.,  1.,  0.],\n",
       "                                                                                            [ 0.,  0.,  1.]]),\n",
       "                                                                                     ['[doge]',\n",
       "                                                                                      '[human]',\n",
       "                                                                                      '[turrtle]'])},\n",
       "                                                   num_columns=12)])]))"
      ]
     },
     "execution_count": 41,
     "metadata": {},
     "output_type": "execute_result"
    }
   ],
   "source": [
    "\n",
    "patsy.dmatrix('clas:bodyTemp - 1', data=temp).design_info\n"
   ]
  },
  {
   "cell_type": "code",
   "execution_count": 23,
   "metadata": {
    "collapsed": false,
    "deletable": true,
    "editable": true
   },
   "outputs": [
    {
     "ename": "AttributeError",
     "evalue": "'DesignMatrix' object has no attribute 'Columns'",
     "output_type": "error",
     "traceback": [
      "\u001b[0;31m---------------------------------------------------------------------------\u001b[0m",
      "\u001b[0;31mAttributeError\u001b[0m                            Traceback (most recent call last)",
      "\u001b[0;32m<ipython-input-23-25bb33cad4a6>\u001b[0m in \u001b[0;36m<module>\u001b[0;34m()\u001b[0m\n\u001b[0;32m----> 1\u001b[0;31m \u001b[0mpd\u001b[0m\u001b[0;34m.\u001b[0m\u001b[0mDataFrame\u001b[0m\u001b[0;34m(\u001b[0m\u001b[0mpatcy\u001b[0m\u001b[0;34m.\u001b[0m\u001b[0mColumns\u001b[0m\u001b[0;34m,\u001b[0m \u001b[0mcolumns\u001b[0m\u001b[0;34m=\u001b[0m\u001b[0mpatcy\u001b[0m\u001b[0;34m.\u001b[0m\u001b[0mTerms\u001b[0m\u001b[0;34m)\u001b[0m\u001b[0;34m\u001b[0m\u001b[0m\n\u001b[0m",
      "\u001b[0;31mAttributeError\u001b[0m: 'DesignMatrix' object has no attribute 'Columns'"
     ]
    }
   ],
   "source": [
    " pd.DataFrame(patcy.Columns, columns=patcy.Terms)"
   ]
  },
  {
   "cell_type": "code",
   "execution_count": null,
   "metadata": {
    "collapsed": true,
    "deletable": true,
    "editable": true
   },
   "outputs": [],
   "source": []
  }
 ],
 "metadata": {
  "kernelspec": {
   "display_name": "Python 3",
   "language": "python",
   "name": "python3"
  },
  "language_info": {
   "codemirror_mode": {
    "name": "ipython",
    "version": 3
   },
   "file_extension": ".py",
   "mimetype": "text/x-python",
   "name": "python",
   "nbconvert_exporter": "python",
   "pygments_lexer": "ipython3",
   "version": "3.4.3"
  }
 },
 "nbformat": 4,
 "nbformat_minor": 2
}
