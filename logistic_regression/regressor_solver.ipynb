{
 "cells": [
  {
   "cell_type": "code",
   "execution_count": 1,
   "metadata": {
    "collapsed": false,
    "deletable": true,
    "editable": true
   },
   "outputs": [
    {
     "name": "stderr",
     "output_type": "stream",
     "text": [
      "/usr/local/lib/python3.4/dist-packages/sklearn/cross_validation.py:44: DeprecationWarning: This module was deprecated in version 0.18 in favor of the model_selection module into which all the refactored classes and functions are moved. Also note that the interface of the new CV iterators are different from that of this module. This module will be removed in 0.20.\n",
      "  \"This module will be removed in 0.20.\", DeprecationWarning)\n"
     ]
    }
   ],
   "source": [
    "#import all helpers\n",
    "import warnings\n",
    "warnings.filterwarnings('ignore')\n",
    "import numpy as np\n",
    "import pandas as pd\n",
    "import statsmodels.api as sm\n",
    "from patsy import dmatrices\n",
    "from sklearn import preprocessing\n",
    "from sklearn.cross_validation import train_test_split, cross_val_score\n",
    "from sklearn import metrics\n",
    "from sklearn import linear_model, decomposition, datasets\n",
    "from sklearn.pipeline import Pipeline, make_pipeline\n",
    "from sklearn.model_selection import GridSearchCV\n",
    "import seaborn as sns # More snazzy plotting library\n",
    "import itertools\n",
    "\n",
    "#import regressors\n",
    "#-----Ensemble--------------------- Kelvin\n",
    "from sklearn.ensemble import       AdaBoostRegressor\n",
    "from sklearn.ensemble import       BaggingRegressor\n",
    "from sklearn.ensemble import       ExtraTreesRegressor\n",
    "from sklearn.ensemble import       GradientBoostingRegressor\n",
    "from sklearn.ensemble import       RandomForestRegressor\n",
    "\n",
    "#----Generalized Linear models----- Su, Ronald\n",
    "from sklearn.linear_model import   ARDRegression\n",
    "from sklearn.linear_model import   BayesianRidge\n",
    "from sklearn.linear_model import   ElasticNet\n",
    "from sklearn.linear_model import   HuberRegressor\n",
    "from sklearn.linear_model import   Lars\n",
    "from sklearn.linear_model import   Lasso\n",
    "from sklearn.linear_model import   LassoLars\n",
    "from sklearn.linear_model import   LinearRegression\n",
    "from sklearn.linear_model import   PassiveAggressiveRegressor\n",
    "from sklearn.linear_model import   Ridge\n",
    "from sklearn.linear_model import   SGDRegressor\n",
    "\n",
    "#---Nearest Neighbors----\n",
    "from sklearn.neighbors import      KNeighborsRegressor\n",
    "from sklearn.neighbors import      RadiusNeighborsRegressor\n",
    "\n",
    "\n",
    "#----Neural Networks--------------- Ahmet\n",
    "from sklearn.neural_network import MLPRegressor\n",
    "\n",
    "#-----Support Vector Machines------\n",
    "from sklearn.svm import            SVR\n",
    "from sklearn.svm import            LinearSVR\n",
    "from sklearn.svm import            NuSVR\n",
    "\n",
    "#-----Decission Trees-------------- Kelvin\n",
    "from sklearn.tree import           DecisionTreeRegressor\n",
    "from sklearn.tree import           ExtraTreeRegressor\n",
    "\n",
    "#file_path =  \"../dataset/movie_metadata_cleaned_tfidf_num_only_min.csv\"\n",
    "file_path =  \"../dataset/movie_metadata_cleaned_categ_num_only.csv\"\n",
    "#file_path = \"../dataset/movie_metadata_cleaned_no_vector_num_only.csv\"\n",
    "\n",
    "dta = pd.read_csv(file_path)\n",
    "dta_clean = dta\n",
    "#remove the null values, that is fill NaN with there - FIXME: Rihards, naive implementation\n",
    "dta_clean = dta_clean.fillna(value=0, axis=1)\n",
    "dta_clean = dta_clean.dropna()\n",
    "dta_clean = dta_clean.drop('Unnamed: 0', axis=1)\n",
    "dta_clean.describe()\n",
    "    \n",
    "y = dta_clean['worldwide_gross']\n",
    "X = dta_clean.drop('worldwide_gross', axis=1)"
   ]
  },
  {
   "cell_type": "code",
   "execution_count": 2,
   "metadata": {
    "collapsed": true,
    "deletable": true,
    "editable": true
   },
   "outputs": [],
   "source": [
    "#models = [AdaBoostRegressor,BaggingRegressor,ExtraTreesRegressor,GradientBoostingRegressor,RandomForestRegressor,BayesianRidge,ElasticNet,HuberRegressor,Lars,Lasso,LassoLars,LinearRegression,PassiveAggressiveRegressor,Ridge,SGDRegressor,KNeighborsRegressor,RadiusNeighborsRegressor,MLPRegressor,SVR,LinearSVR,NuSVR,DecisionTreeRegressor,ExtraTreeRegressor]#classifiers = [RadiusNeighborsClassifier]\n",
    "models= [LinearRegression]\n",
    "results = {}\n",
    "errors = {}\n",
    "\n",
    "def run_grid_search(x,y,Model, res_dict, error):\n",
    "    #create pipline and use GridSearch to find the betst params\n",
    "    name = Model.__name__\n",
    "    if name == \"MLPClassifier\" or name == \"MLPRegressor\": \n",
    "        cv = 50\n",
    "    else: \n",
    "        cv = 5\n",
    "    model = Model()\n",
    "    pipe = Pipeline(steps=[('model', model)])\n",
    "    #create estimator\n",
    "    print()\n",
    "    print (\"***Starting [\"  + name + \"] estimator run \")\n",
    "    estimator = GridSearchCV(pipe,dict(),verbose=2, cv=cv, n_jobs=4, scoring=\"adjusted_rand_score\")\n",
    "    #run the esmimator, except eceptions, sape errors\n",
    "    try:\n",
    "            estimator.fit(x, y)\n",
    "            print (\"GREP_ME***Results of [\"  + name + \"] estimator run are\")\n",
    "            print (estimator.cv_results_)\n",
    "            print (\"GREP_ME***Best params of [\"  + name + \"] estimator run are\")\n",
    "            print (estimator.best_params_)\n",
    "            print (\"GREP_ME***Best score of [\"  + name + \"] estimator run are\")\n",
    "            print (estimator.best_score_)\n",
    "            results[name] = estimator.best_score_\n",
    "    except ValueError as err:\n",
    "            print (\"GREP_ME***Error caught for  [\"  + name + \"]\")\n",
    "            errors[name] = err\n",
    "            pass\n",
    "            \n",
    "def run_solver(X,y,models_arr, res_dict, errors):\n",
    "    for model in models_arr:\n",
    "        run_grid_search(X,y, model, res_dict, errors)    "
   ]
  },
  {
   "cell_type": "code",
   "execution_count": 3,
   "metadata": {
    "collapsed": false,
    "deletable": true,
    "editable": true
   },
   "outputs": [
    {
     "name": "stdout",
     "output_type": "stream",
     "text": [
      "\n",
      "***Starting [LinearRegression] estimator run \n",
      "Fitting 5 folds for each of 1 candidates, totalling 5 fits\n",
      "[CV]  ................................................................\n",
      "[CV]  ................................................................\n",
      "[CV]  ................................................................\n",
      "[CV]  ................................................................\n",
      "[CV] ................................................. , total=   0.1s\n",
      "[CV]  ................................................................\n",
      "[CV] ................................................. , total=   0.2s\n",
      "[CV] ................................................. , total=   0.2s\n",
      "[CV] ................................................. , total=   0.2s\n",
      "[CV] ................................................. , total=   0.1s\n",
      "GREP_ME***Results of [LinearRegression] estimator run are\n",
      "{'std_test_score': array([ 0.]), 'split0_train_score': array([ 0.]), 'split4_test_score': array([ 0.]), 'rank_test_score': array([1], dtype=int32), 'split2_train_score': array([ 0.]), 'split3_train_score': array([ 0.]), 'mean_test_score': array([ 0.]), 'std_score_time': array([ 0.00945021]), 'split3_test_score': array([ 0.]), 'split0_test_score': array([ 0.]), 'std_train_score': array([ 0.]), 'mean_fit_time': array([ 0.14269962]), 'mean_score_time': array([ 0.01342363]), 'params': ({},), 'split1_test_score': array([ 0.]), 'mean_train_score': array([ 0.]), 'split2_test_score': array([ 0.]), 'split1_train_score': array([ 0.]), 'std_fit_time': array([ 0.03081642]), 'split4_train_score': array([ 0.])}\n",
      "GREP_ME***Best params of [LinearRegression] estimator run are\n",
      "{}\n",
      "GREP_ME***Best score of [LinearRegression] estimator run are\n",
      "0.0\n"
     ]
    },
    {
     "name": "stderr",
     "output_type": "stream",
     "text": [
      "[Parallel(n_jobs=4)]: Done   5 out of   5 | elapsed:    0.4s finished\n"
     ]
    }
   ],
   "source": [
    "run_solver(X,y, models, results, errors)"
   ]
  },
  {
   "cell_type": "code",
   "execution_count": 5,
   "metadata": {
    "collapsed": false,
    "deletable": true,
    "editable": true
   },
   "outputs": [
    {
     "name": "stdout",
     "output_type": "stream",
     "text": [
      "{'BaggingRegressor': -666.72808243134989, 'RandomForestRegressor': -642.91888100286531, 'NuSVR': -4229.7866086802687, 'PassiveAggressiveRegressor': -189.35094285575232, 'KNeighborsRegressor': -681.59015467328902, 'AdaBoostRegressor': -7317.3575743149613, 'LinearSVR': -546.30137487172624, 'Lars': -6.6269030261552457e+46, 'BayesianRidge': -589.57743095752028, 'HuberRegressor': -415.94572792306479, 'ExtraTreesRegressor': -521.51527927181598, 'LinearRegression': -944.8288376262941, 'GradientBoostingRegressor': -1505.8789993953847, 'ElasticNet': -622.71719832057272, 'Lasso': -937.14087446192468, 'Ridge': -931.10037537265475, 'MLPRegressor': -1936627.9124196013, 'ExtraTreeRegressor': -488.3978837298211, 'DecisionTreeRegressor': -2323.9784001044254, 'SGDRegressor': -7.8652893320545996e+34, 'SVR': -1786.2464672394765, 'LassoLars': -923.88815502318494}\n"
     ]
    }
   ],
   "source": [
    "print(results)"
   ]
  },
  {
   "cell_type": "code",
   "execution_count": null,
   "metadata": {
    "collapsed": true,
    "deletable": true,
    "editable": true
   },
   "outputs": [],
   "source": []
  }
 ],
 "metadata": {
  "kernelspec": {
   "display_name": "Python 3",
   "language": "python",
   "name": "python3"
  },
  "language_info": {
   "codemirror_mode": {
    "name": "ipython",
    "version": 3
   },
   "file_extension": ".py",
   "mimetype": "text/x-python",
   "name": "python",
   "nbconvert_exporter": "python",
   "pygments_lexer": "ipython3",
   "version": "3.4.3"
  }
 },
 "nbformat": 4,
 "nbformat_minor": 2
}
