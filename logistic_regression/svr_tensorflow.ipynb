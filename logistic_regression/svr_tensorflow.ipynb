{
 "cells": [
  {
   "cell_type": "code",
   "execution_count": 2,
   "metadata": {
    "collapsed": false,
    "deletable": true,
    "editable": true,
    "scrolled": true
   },
   "outputs": [
    {
     "name": "stdout",
     "output_type": "stream",
     "text": [
      "[LibSVM]"
     ]
    },
    {
     "data": {
      "text/plain": [
       "0.84855652575620177"
      ]
     },
     "execution_count": 2,
     "metadata": {},
     "output_type": "execute_result"
    }
   ],
   "source": [
    "#ignore warnings for clear printing\n",
    "import warnings\n",
    "warnings.filterwarnings('ignore')\n",
    "import numpy as np\n",
    "import pandas as pd\n",
    "import statsmodels.api as sm\n",
    "import matplotlib.pyplot as plt\n",
    "from patsy import dmatrices\n",
    "from sklearn.linear_model import LogisticRegression, LinearRegression\n",
    "from sklearn import preprocessing\n",
    "from sklearn.cross_validation import train_test_split\n",
    "from sklearn import metrics\n",
    "from sklearn.cross_validation import cross_val_score\n",
    "from sklearn import linear_model, decomposition, datasets\n",
    "from sklearn.pipeline import Pipeline\n",
    "from sklearn.model_selection import GridSearchCV\n",
    "from sklearn.svm import SVR\n",
    "import seaborn as sns # More snazzy plotting library\n",
    "import itertools\n",
    "\n",
    "\n",
    "##test results \n",
    "#  1.looks the absolute year number gives a good colleration for prediction. \n",
    "#  2. standarlistaion improves prediction by 3%\n",
    "#  3. removing aspect ratio improves prediction by 2%\n",
    "\n",
    "\n",
    "#open the file\n",
    "file_path = \"/home/user/projects/data_mining/predictive_data_mining/logistic_regression/working_dataset.csv\"\n",
    "dta = pd.read_csv(file_path)\n",
    "\n",
    "#clean up data non numeric rows\n",
    "#str_list = [] # empty list to contain columns with strings (words)\n",
    "#for colname, colvalue in dta.iteritems():\n",
    "#    if type(colvalue[1]) == str:\n",
    "        #if colname not in str_list:\n",
    "#            str_list.append(colname)\n",
    "# Get to the numeric columns by inversion\n",
    "#num_list = dta.columns.difference(str_list)\n",
    "#USe only the numeriv values\n",
    "#dta_clean = dta[num_list]\n",
    "\n",
    "#save all rows\n",
    "dta_clean = dta\n",
    "#remove the null values, that is fill NaN with there - FIXME: Rihards, naive implementation\n",
    "#dta_clean = dta_clean.fillna(value=0, axis=1)\n",
    "dta_clean = dta_clean.dropna()\n",
    "dta_clean = dta_clean.reindex_axis(sorted(dta_clean.columns), axis=1)\n",
    "#clean up data from zero rows \n",
    "for colname, colvalue in dta_clean.iteritems():\n",
    "    if colname != 'facenumber_in_poster':\n",
    "        dta_clean = dta_clean[dta_clean[colname] != 0]\n",
    "dta_clean.count()\n",
    "#clasify the data for the logistic regression\n",
    "def label_gross (gross):\n",
    "    if (gross < 1000000) : return 1\n",
    "    elif ((gross >= 1000000) & (gross < 10000000)) : return 2\n",
    "    elif ((gross >= 10000000) & (gross < 50000000)) : return 3\n",
    "    elif ((gross >= 50000000) & (gross < 200000000)) : return 4\n",
    "    elif (gross >= 200000000) : return 5\n",
    "\n",
    "dta_clean['gross_class'] = dta_clean.gross.apply (lambda gross: label_gross (gross))\n",
    "\n",
    "\n",
    "##svr classificaiton\n",
    "y, X = dmatrices('gross_class ~  budget + C(language) + cast_total_facebook_likes + \\\n",
    "                 director_facebook_likes + duration + facenumber_in_poster + imdb_score + \\\n",
    "                 movie_facebook_likes + num_critic_for_reviews + num_user_for_reviews + num_voted_users + title_year',\n",
    "                 dta_clean, return_type=\"dataframe\")\n",
    "\n",
    "X_train, X_test, y_train, y_test = train_test_split(X, y, test_size=0.3, random_state=0)\n",
    "model = SVR(kernel='rbf', verbose=2)\n",
    "model = model.fit(X, y)\n",
    "# check the accuracy on the training set\n",
    "model.score(X, y)"
   ]
  },
  {
   "cell_type": "code",
   "execution_count": null,
   "metadata": {
    "collapsed": false,
    "deletable": true,
    "editable": true
   },
   "outputs": [
    {
     "name": "stdout",
     "output_type": "stream",
     "text": [
      "[LibSVM]"
     ]
    }
   ],
   "source": [
    "##svr regression\n",
    "y, X = dmatrices('gross ~  budget + C(language) + cast_total_facebook_likes + \\\n",
    "                 director_facebook_likes + duration + facenumber_in_poster + imdb_score + \\\n",
    "                 movie_facebook_likes + num_critic_for_reviews + num_user_for_reviews + num_voted_users + title_year',\n",
    "                 dta_clean, return_type=\"dataframe\")\n",
    "\n",
    "X_train, X_test, y_train, y_test = train_test_split(X, y, test_size=0.3, random_state=0)\n",
    "model = SVR(kernel='linear', verbose=2)\n",
    "model = model.fit(X, y)\n",
    "# check the accuracy on the training set\n",
    "model.score(X, y)"
   ]
  },
  {
   "cell_type": "code",
   "execution_count": null,
   "metadata": {
    "collapsed": true,
    "deletable": true,
    "editable": true
   },
   "outputs": [],
   "source": []
  }
 ],
 "metadata": {
  "kernelspec": {
   "display_name": "Python 2",
   "language": "python",
   "name": "python2"
  },
  "language_info": {
   "codemirror_mode": {
    "name": "ipython",
    "version": 2
   },
   "file_extension": ".py",
   "mimetype": "text/x-python",
   "name": "python",
   "nbconvert_exporter": "python",
   "pygments_lexer": "ipython2",
   "version": "2.7.6"
  }
 },
 "nbformat": 4,
 "nbformat_minor": 2
}
