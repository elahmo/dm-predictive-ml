{
 "cells": [
  {
   "cell_type": "code",
   "execution_count": 5,
   "metadata": {
    "collapsed": false
   },
   "outputs": [],
   "source": [
    "import matplotlib.pyplot as plt\n",
    "from subprocess import check_output\n",
    "import os\n",
    "input_folder = \"../dataset\"\n",
    "\n",
    "###run once\n",
    "os.environ[\"PATH\"] += os.pathsep + 'C:/Program Files (x86)/Graphviz2.38/bin/'\n",
    "\n",
    "import pandas as pd\n",
    "import numpy as np\n",
    "import matplotlib\n",
    "import matplotlib.pyplot as plt\n",
    "import graphviz\n",
    "import pydotplus\n",
    "from pandas import DataFrame,Series\n",
    "from sklearn import tree\n",
    "from sklearn.tree import DecisionTreeRegressor\n",
    "from sklearn.ensemble import BaggingRegressor\n",
    "from sklearn.model_selection import cross_val_score\n",
    "from sklearn.cross_validation import train_test_split\n",
    "from sklearn.metrics import mean_squared_error, r2_score"
   ]
  },
  {
   "cell_type": "code",
   "execution_count": 6,
   "metadata": {
    "collapsed": false
   },
   "outputs": [],
   "source": [
    "movie_file = pd.read_csv(input_folder+\"/movie_metadata_cleaned_filled_values.csv\")\n",
    "movie_data= DataFrame(movie_file)\n",
    "movie_data.fillna(movie_data.mean())\n",
    "movie_data = movie_data.dropna()\n",
    "\n",
    "#movie_data.head(10)\n",
    "#len(movie_data)\n",
    "\n",
    "drop_predictors = ['gross', 'worldwide_gross','color', 'movie_title', 'director_name',\n",
    "       'actor_1_name', 'actor_2_name','actor_3_name', \n",
    "       'content_rating', 'genres', 'plot_keywords', 'movie_imdb_link', 'country', 'language', 'release_date','title_year','aspect_ratio']\n",
    "\n",
    "#define predictors and predicted values\n",
    "X = movie_data.drop(drop_predictors, axis=1)\n",
    "y = movie_data.worldwide_gross\n",
    "\n",
    "from sklearn import preprocessing\n",
    "\n",
    "####standardize data to address different scales.\n",
    "standardized_X = preprocessing.scale(X)\n",
    "standardized_y = preprocessing.scale(y)\n",
    "#print(standardized_y)\n",
    "\n",
    "#### split into training and testing sets\n",
    "X_train, X_test, y_train, y_test = train_test_split(standardized_X, standardized_y, train_size=0.7, random_state=0)\n"
   ]
  },
  {
   "cell_type": "code",
   "execution_count": 8,
   "metadata": {
    "collapsed": false
   },
   "outputs": [
    {
     "name": "stdout",
     "output_type": "stream",
     "text": [
      "Bagging Estimator: 10 of 50...\n",
      "Bagging Estimator: 20 of 50...\n",
      "Bagging Estimator: 30 of 50...\n",
      "Bagging Estimator: 40 of 50...\n",
      "Bagging Estimator: 50 of 50...\n"
     ]
    }
   ],
   "source": [
    "n_jobs = 1  # Parallelisation factor for bagging, random forests\n",
    "random_state = 42\n",
    "n_estimators = 50\n",
    "step_factor = 10\n",
    "axis_step = int(n_estimators/step_factor)\n",
    "\n",
    "estimators = np.zeros(axis_step)\n",
    "bagging_mse = np.zeros(axis_step)\n",
    "\n",
    "# Estimate the Bagging MSE over the full number\n",
    "# of estimators, across a step size (\"step_factor\")\n",
    "for i in range(0, axis_step):\n",
    "    print(\"Bagging Estimator: %d of %d...\" % (\n",
    "        step_factor*(i+1), n_estimators)\n",
    "    )\n",
    "    bagging = BaggingRegressor(\n",
    "        DecisionTreeRegressor(), \n",
    "        n_estimators=step_factor*(i+1),\n",
    "        n_jobs=n_jobs,\n",
    "        random_state=random_state\n",
    "    )\n",
    "    bagging.fit(X_train, y_train)\n",
    "    mse = mean_squared_error(y_test, bagging.predict(X_test))\n",
    "    estimators[i] = step_factor*(i+1)\n",
    "    bagging_mse[i] = mse"
   ]
  },
  {
   "cell_type": "code",
   "execution_count": 9,
   "metadata": {
    "collapsed": false
   },
   "outputs": [
    {
     "name": "stdout",
     "output_type": "stream",
     "text": [
      "0.365273314353\n"
     ]
    }
   ],
   "source": [
    "print mse"
   ]
  },
  {
   "cell_type": "code",
   "execution_count": 10,
   "metadata": {
    "collapsed": false
   },
   "outputs": [
    {
     "name": "stdout",
     "output_type": "stream",
     "text": [
      "[ 0.3837965   0.36909478  0.3654786   0.36821699  0.36527331]\n"
     ]
    }
   ],
   "source": [
    "print bagging_mse"
   ]
  },
  {
   "cell_type": "code",
   "execution_count": 11,
   "metadata": {
    "collapsed": false
   },
   "outputs": [
    {
     "data": {
      "text/plain": [
       "0.37037203827720566"
      ]
     },
     "execution_count": 11,
     "metadata": {},
     "output_type": "execute_result"
    }
   ],
   "source": [
    "bagging_mse.mean()"
   ]
  },
  {
   "cell_type": "code",
   "execution_count": 12,
   "metadata": {
    "collapsed": false
   },
   "outputs": [
    {
     "data": {
      "text/plain": [
       "0.68339526004791429"
      ]
     },
     "execution_count": 12,
     "metadata": {},
     "output_type": "execute_result"
    }
   ],
   "source": [
    "r2_score(y_test, bagging.predict(X_test), multioutput='variance_weighted')"
   ]
  },
  {
   "cell_type": "code",
   "execution_count": null,
   "metadata": {
    "collapsed": true
   },
   "outputs": [],
   "source": []
  }
 ],
 "metadata": {
  "kernelspec": {
   "display_name": "Python [default]",
   "language": "python",
   "name": "python2"
  },
  "language_info": {
   "codemirror_mode": {
    "name": "ipython",
    "version": 2
   },
   "file_extension": ".py",
   "mimetype": "text/x-python",
   "name": "python",
   "nbconvert_exporter": "python",
   "pygments_lexer": "ipython2",
   "version": "2.7.9"
  }
 },
 "nbformat": 4,
 "nbformat_minor": 1
}
