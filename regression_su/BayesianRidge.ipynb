{
 "cells": [
  {
   "cell_type": "code",
   "execution_count": 2,
   "metadata": {
    "collapsed": false
   },
   "outputs": [
    {
     "name": "stdout",
     "output_type": "stream",
     "text": [
      "movie_metadata.csv\n",
      "test.csv\n",
      "train.csv\n",
      "\n"
     ]
    }
   ],
   "source": [
    "import numpy as np # linear algebra\n",
    "import pandas as pd # data processing, CSV file I/O\n",
    "# Input data files are available in the \"../input/\" directory.\n",
    "from subprocess import check_output\n",
    "input_folder = \"../moviedata\"\n",
    "print(check_output([\"ls\", input_folder]).decode(\"utf8\"))\n",
    "\n",
    "import os\n",
    "import pandas as pd\n",
    "from pandas import DataFrame,Series\n",
    "from sklearn import tree\n",
    "import matplotlib\n",
    "import numpy as np\n",
    "import matplotlib.pyplot as plt\n",
    "from sklearn.linear_model import BayesianRidge as br\n",
    "from sklearn.model_selection import cross_val_score"
   ]
  },
  {
   "cell_type": "code",
   "execution_count": 62,
   "metadata": {
    "collapsed": false
   },
   "outputs": [],
   "source": [
    "f = pd.read_csv(input_folder+\"/movie_metadata.csv\")\n",
    "data=DataFrame(f)\n",
    "# data.head(10)\n",
    "\n",
    "# np.sum(data.isnull())\n",
    "data_2 = data.dropna()\n",
    "# print( np.sum(data_2.isnull()) )\n",
    "# print( data_2.shape )\n",
    "# print( type(data_2) )\n",
    "\n",
    "# Select all numerical features\n",
    "index_filter_num_all=data_2.dtypes[data.dtypes!='object'].index"
   ]
  },
  {
   "cell_type": "code",
   "execution_count": 27,
   "metadata": {
    "collapsed": true
   },
   "outputs": [],
   "source": [
    "predictors_name = ['num_critic_for_reviews', 'duration', 'director_facebook_likes',\n",
    "       'actor_3_facebook_likes', 'actor_1_facebook_likes', \n",
    "       'num_voted_users', 'cast_total_facebook_likes', 'facenumber_in_poster',\n",
    "       'num_user_for_reviews', 'budget', 'title_year',\n",
    "       'actor_2_facebook_likes', 'imdb_score', 'aspect_ratio',\n",
    "       'movie_facebook_likes']\n",
    "targets_names = ['gross', 'gross_millions', 'gross_log']\n",
    "\n",
    "all_num_names = predictors_name + targets_names\n",
    "# print(\"All:\")\n",
    "# print(all_num_names)\n",
    "\n",
    "# Split data into training set and testing set\n",
    "msk = np.random.rand(len(data_2)) < 0.8\n",
    "train = data_2[msk]\n",
    "test = data_2[~msk]\n",
    "# print len(data_2)\n",
    "# print len(train)\n",
    "# print len(test)\n",
    "\n",
    "# Training\n",
    "X=train[predictors_name]\n",
    "y=np.log(train['budget'])\n",
    "X0=data_2[predictors_name]\n",
    "y0=np.log(data_2['budget'])\n",
    "\n",
    "# Testing\n",
    "X1=test[predictors_name]\n",
    "y1=np.log(test['budget'])\n",
    "# print clf.score(X1, y1)"
   ]
  },
  {
   "cell_type": "code",
   "execution_count": 64,
   "metadata": {
    "collapsed": false
   },
   "outputs": [
    {
     "data": {
      "text/plain": [
       "0.35364263048447381"
      ]
     },
     "execution_count": 64,
     "metadata": {},
     "output_type": "execute_result"
    }
   ],
   "source": [
    "# Apply BayesianRidge Regression\n",
    "clf = br()\n",
    "clf.fit(X, y)\n",
    "clf.score(X1, y1)"
   ]
  },
  {
   "cell_type": "code",
   "execution_count": 48,
   "metadata": {
    "collapsed": false
   },
   "outputs": [
    {
     "name": "stdout",
     "output_type": "stream",
     "text": [
      "[  2.13576750e-03   1.88463740e-02  -2.06010506e-06  -8.46272513e-05\n",
      "  -6.90078479e-05   2.72879341e-06   7.30022707e-05  -3.64094394e-03\n",
      "  -2.04279189e-04   1.13680013e-09   2.12675932e-02  -5.85582084e-05\n",
      "  -4.29582147e-01   2.97100867e-01  -8.22513393e-06]\n"
     ]
    }
   ],
   "source": [
    "print clf.coef_"
   ]
  },
  {
   "cell_type": "code",
   "execution_count": 61,
   "metadata": {
    "collapsed": false
   },
   "outputs": [
    {
     "name": "stdout",
     "output_type": "stream",
     "text": [
      "-5.28788346463\n"
     ]
    }
   ],
   "source": [
    "score = cross_val_score(clf, X0, y0, cv=5)\n",
    "print score.mean()"
   ]
  },
  {
   "cell_type": "code",
   "execution_count": null,
   "metadata": {
    "collapsed": true
   },
   "outputs": [],
   "source": []
  }
 ],
 "metadata": {
  "kernelspec": {
   "display_name": "Python 2",
   "language": "python",
   "name": "python2"
  },
  "language_info": {
   "codemirror_mode": {
    "name": "ipython",
    "version": 2
   },
   "file_extension": ".py",
   "mimetype": "text/x-python",
   "name": "python",
   "nbconvert_exporter": "python",
   "pygments_lexer": "ipython2",
   "version": "2.7.13"
  }
 },
 "nbformat": 4,
 "nbformat_minor": 2
}
