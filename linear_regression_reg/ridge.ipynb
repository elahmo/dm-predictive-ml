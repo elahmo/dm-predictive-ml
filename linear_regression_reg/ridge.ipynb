{
 "cells": [
  {
   "cell_type": "code",
   "execution_count": 7,
   "metadata": {
    "collapsed": false,
    "deletable": true,
    "editable": true
   },
   "outputs": [],
   "source": [
    "import matplotlib.pyplot as plt\n",
    "import pandas as pd\n",
    "import numpy as np\n",
    "import matplotlib\n",
    "import matplotlib.pyplot as plt\n",
    "import graphviz\n",
    "import pydotplus \n",
    "from pandas import DataFrame,Series\n",
    "from sklearn.linear_model import Ridge\n",
    "from sklearn.model_selection import cross_val_score\n",
    "from sklearn.cross_validation import train_test_split\n",
    "from sklearn.metrics import mean_squared_error, r2_score\n",
    "\n",
    "input_folder = \"../dataset\""
   ]
  },
  {
   "cell_type": "code",
   "execution_count": 8,
   "metadata": {
    "collapsed": false,
    "deletable": true,
    "editable": true
   },
   "outputs": [],
   "source": [
    "movie_file = pd.read_csv(input_folder+\"/movie_metadata_cleaned_filled_values.csv\")\n",
    "movie_data= DataFrame(movie_file)\n",
    "movie_data.fillna(movie_data.mean())\n",
    "movie_data = movie_data.dropna()\n",
    "\n",
    "#movie_data.head(10)\n",
    "#len(movie_data)"
   ]
  },
  {
   "cell_type": "code",
   "execution_count": 9,
   "metadata": {
    "collapsed": false,
    "deletable": true,
    "editable": true
   },
   "outputs": [
    {
     "name": "stderr",
     "output_type": "stream",
     "text": [
      "/usr/local/lib/python3.5/dist-packages/sklearn/utils/validation.py:429: DataConversionWarning: Data with input dtype int64 was converted to float64 by the scale function.\n",
      "  warnings.warn(msg, _DataConversionWarning)\n"
     ]
    },
    {
     "data": {
      "text/plain": [
       "Ridge(alpha=1.0, copy_X=True, fit_intercept=True, max_iter=None,\n",
       "   normalize=False, random_state=None, solver='auto', tol=0.001)"
      ]
     },
     "execution_count": 9,
     "metadata": {},
     "output_type": "execute_result"
    }
   ],
   "source": [
    "drop_predictors = ['gross','worldwide_gross','color','movie_title','director_name',\n",
    "                   'actor_1_name','actor_2_name','actor_3_name','content_rating',\n",
    "                   'genres','plot_keywords','movie_imdb_link','country','language',\n",
    "                   'release_date','title_year','aspect_ratio']\n",
    "\n",
    "#define predictors and predicted values\n",
    "X = movie_data.drop(drop_predictors, axis=1)\n",
    "y = movie_data.worldwide_gross\n",
    "\n",
    "from sklearn import preprocessing\n",
    "\n",
    "####standardize data to address different scales.\n",
    "standardized_X = preprocessing.scale(X)\n",
    "standardized_y = preprocessing.scale(y)\n",
    "\n",
    "#### split into training and testing sets\n",
    "X_train, X_test, y_train, y_test = train_test_split(standardized_X, standardized_y, train_size=0.7, random_state=0)\n",
    "\n",
    "reg_model = Ridge()\n",
    "\n",
    "##Train the model using the training sets \n",
    "reg_model.fit(X_train, y_train)"
   ]
  },
  {
   "cell_type": "code",
   "execution_count": 10,
   "metadata": {
    "collapsed": false,
    "deletable": true,
    "editable": true
   },
   "outputs": [
    {
     "data": {
      "image/png": "[encoded data removed]",
      "text/plain": [
       "<matplotlib.figure.Figure at 0x7fe0caf7a470>"
      ]
     },
     "metadata": {},
     "output_type": "display_data"
    }
   ],
   "source": [
    "pred = reg_model.predict(X_test)\n",
    "plt.scatter(pred, y_test, label='worldwide_gross')\n",
    "plt.plot([0, 1], [0, 1], '--k', transform=plt.gca().transAxes)\n",
    "plt.xlabel('pred')\n",
    "plt.ylabel('y_test')\n",
    "plt.show()"
   ]
  },
  {
   "cell_type": "code",
   "execution_count": 5,
   "metadata": {
    "collapsed": false,
    "deletable": true,
    "editable": true
   },
   "outputs": [
    {
     "name": "stdout",
     "output_type": "stream",
     "text": [
      "MSE: 0.4359\n",
      "R2:  0.6221\n"
     ]
    }
   ],
   "source": [
    "#Metrics\n",
    "print(\"MSE: {0:0.4f}\".format(mean_squared_error(y_test, pred)))\n",
    "print(\"R2:  {0:0.4f}\".format(r2_score(y_test, pred, multioutput='variance_weighted')))"
   ]
  },
  {
   "cell_type": "code",
   "execution_count": 6,
   "metadata": {
    "collapsed": false,
    "deletable": true,
    "editable": true
   },
   "outputs": [
    {
     "name": "stdout",
     "output_type": "stream",
     "text": [
      "Regression Coefficients: \n",
      " [  2.33619847e-02  -4.87320867e-02  -1.85745825e-02  -6.18888760e-02\n",
      "  -5.59085460e-01   2.74082146e-01   6.34150022e-01   5.77883893e-01\n",
      "  -1.42610307e-04   2.87819277e-02  -1.92162185e-02  -5.48103377e-03\n",
      "  -1.60132790e-01   4.71722032e-02   5.65143348e-02]\n",
      "Intercept: -0.0158\n"
     ]
    }
   ],
   "source": [
    "# View the regression coefficients\n",
    "print('Regression Coefficients: \\n', reg_model.coef_)\n",
    "print('Intercept: {:.4f}'.format(reg_model.intercept_)) "
   ]
  },
  {
   "cell_type": "code",
   "execution_count": null,
   "metadata": {
    "collapsed": true,
    "deletable": true,
    "editable": true
   },
   "outputs": [],
   "source": []
  }
 ],
 "metadata": {
  "anaconda-cloud": {},
  "kernelspec": {
   "display_name": "Python 3",
   "language": "python",
   "name": "python3"
  },
  "language_info": {
   "codemirror_mode": {
    "name": "ipython",
    "version": 3
   },
   "file_extension": ".py",
   "mimetype": "text/x-python",
   "name": "python",
   "nbconvert_exporter": "python",
   "pygments_lexer": "ipython3",
   "version": "3.5.2"
  }
 },
 "nbformat": 4,
 "nbformat_minor": 1
}
