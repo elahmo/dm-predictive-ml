{
 "cells": [
  {
   "cell_type": "code",
   "execution_count": 1,
   "metadata": {
    "collapsed": false,
    "deletable": true,
    "editable": true
   },
   "outputs": [
    {
     "name": "stderr",
     "output_type": "stream",
     "text": [
      "/usr/local/lib/python3.5/dist-packages/sklearn/cross_validation.py:44: DeprecationWarning: This module was deprecated in version 0.18 in favor of the model_selection module into which all the refactored classes and functions are moved. Also note that the interface of the new CV iterators are different from that of this module. This module will be removed in 0.20.\n",
      "  \"This module will be removed in 0.20.\", DeprecationWarning)\n"
     ]
    }
   ],
   "source": [
    "import matplotlib.pyplot as plt\n",
    "import pandas as pd\n",
    "import numpy as np\n",
    "import matplotlib\n",
    "import matplotlib.pyplot as plt\n",
    "import graphviz\n",
    "import pydotplus\n",
    "import time\n",
    "from pandas import DataFrame,Series\n",
    "from sklearn.linear_model import LinearRegression\n",
    "from sklearn.model_selection import cross_val_score, GridSearchCV, learning_curve\n",
    "from sklearn.cross_validation import train_test_split\n",
    "from sklearn.metrics import mean_squared_error, r2_score\n",
    "from sklearn.kernel_ridge import KernelRidge\n",
    "\n",
    "input_folder = \"../dataset\""
   ]
  },
  {
   "cell_type": "code",
   "execution_count": 2,
   "metadata": {
    "collapsed": false,
    "deletable": true,
    "editable": true
   },
   "outputs": [],
   "source": [
    "movie_file = pd.read_csv(input_folder+\"/movie_metadata_cleaned_filled_values.csv\")\n",
    "movie_data= DataFrame(movie_file)\n",
    "movie_data.fillna(movie_data.mean())\n",
    "movie_data = movie_data.dropna()\n",
    "\n",
    "#movie_data.head(10)\n",
    "#len(movie_data)"
   ]
  },
  {
   "cell_type": "code",
   "execution_count": 3,
   "metadata": {
    "collapsed": false,
    "deletable": true,
    "editable": true
   },
   "outputs": [
    {
     "name": "stderr",
     "output_type": "stream",
     "text": [
      "/usr/local/lib/python3.5/dist-packages/sklearn/utils/validation.py:429: DataConversionWarning: Data with input dtype int64 was converted to float64 by the scale function.\n",
      "  warnings.warn(msg, _DataConversionWarning)\n"
     ]
    },
    {
     "name": "stdout",
     "output_type": "stream",
     "text": [
      "KRR complexity and bandwidth selected and model fitted in 51.280 s\n"
     ]
    }
   ],
   "source": [
    "drop_predictors = ['gross','worldwide_gross','color','movie_title','director_name',\n",
    "                   'actor_1_name','actor_2_name','actor_3_name','content_rating',\n",
    "                   'genres','plot_keywords','movie_imdb_link','country','language',\n",
    "                   'release_date','title_year','aspect_ratio']\n",
    "\n",
    "#define predictors and predicted values\n",
    "X = movie_data.drop(drop_predictors, axis=1)\n",
    "y = movie_data.worldwide_gross\n",
    "\n",
    "from sklearn import preprocessing\n",
    "\n",
    "####standardize data to address different scales.\n",
    "standardized_X = preprocessing.scale(X)\n",
    "standardized_y = preprocessing.scale(y)\n",
    "\n",
    "#### split into training and testing sets\n",
    "X_train, X_test, y_train, y_test = train_test_split(standardized_X, standardized_y, train_size=0.7, random_state=0)\n",
    "\n",
    "#reg_model = LinearRegression()\n",
    "kr = GridSearchCV(KernelRidge(kernel='rbf', gamma=0.1), cv=5,\n",
    "                  param_grid={\"alpha\": [1e0, 0.1, 1e-2, 1e-3],\n",
    "                              \"gamma\": np.logspace(-2, 2, 5)})\n",
    "t0 = time.time()\n",
    "kr.fit(X_train, y_train)\n",
    "kr_fit = time.time() - t0\n",
    "print(\"KRR complexity and bandwidth selected and model fitted in {0:.3f} s\"\n",
    "      .format(kr_fit))\n",
    "\n",
    "##Train the model using the training sets \n",
    "#reg_model.fit(X_train, y_train)"
   ]
  },
  {
   "cell_type": "code",
   "execution_count": 4,
   "metadata": {
    "collapsed": false,
    "deletable": true,
    "editable": true
   },
   "outputs": [
    {
     "data": {
      "image/png": "[encoded data removed]",
      "text/plain": [
       "<matplotlib.figure.Figure at 0x7fc03e0b2780>"
      ]
     },
     "metadata": {},
     "output_type": "display_data"
    }
   ],
   "source": [
    "pred = kr.predict(X_test)\n",
    "plt.scatter(pred, y_test, label='worldwide_gross')\n",
    "plt.plot([0, 1], [0, 1], '--k', transform=plt.gca().transAxes)\n",
    "plt.xlabel('pred')\n",
    "plt.ylabel('y_test')\n",
    "plt.show()"
   ]
  },
  {
   "cell_type": "code",
   "execution_count": 5,
   "metadata": {
    "collapsed": false,
    "deletable": true,
    "editable": true
   },
   "outputs": [
    {
     "name": "stdout",
     "output_type": "stream",
     "text": [
      "MSE: 0.3525\n",
      "R2:  0.6944\n"
     ]
    }
   ],
   "source": [
    "#Metrics\n",
    "print(\"MSE: {0:0.4f}\".format(mean_squared_error(y_test, pred)))\n",
    "print(\"R2:  {0:0.4f}\".format(r2_score(y_test, pred, multioutput='variance_weighted')))"
   ]
  },
  {
   "cell_type": "code",
   "execution_count": null,
   "metadata": {
    "collapsed": true,
    "deletable": true,
    "editable": true
   },
   "outputs": [],
   "source": []
  }
 ],
 "metadata": {
  "anaconda-cloud": {},
  "kernelspec": {
   "display_name": "Python 3",
   "language": "python",
   "name": "python3"
  },
  "language_info": {
   "codemirror_mode": {
    "name": "ipython",
    "version": 3
   },
   "file_extension": ".py",
   "mimetype": "text/x-python",
   "name": "python",
   "nbconvert_exporter": "python",
   "pygments_lexer": "ipython3",
   "version": "3.5.2"
  }
 },
 "nbformat": 4,
 "nbformat_minor": 1
}
