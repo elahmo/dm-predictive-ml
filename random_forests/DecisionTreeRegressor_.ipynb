{
 "cells": [
  {
   "cell_type": "code",
   "execution_count": 82,
   "metadata": {
    "collapsed": false
   },
   "outputs": [],
   "source": [
    "\n",
    "from subprocess import check_output\n",
    "import os\n",
    "input_folder = \"../dataset\"\n",
    " \n",
    "###run once\n",
    "os.environ[\"PATH\"] += os.pathsep + 'C:/Program Files (x86)/Graphviz2.38/bin/'\n",
    "\n",
    "import pandas as pd\n",
    "import numpy as np\n",
    "import matplotlib\n",
    "import matplotlib.pyplot as plt\n",
    "%matplotlib inline\n",
    "from matplotlib.lines import Line2D\n",
    "import graphviz\n",
    "import pydotplus \n",
    "from sklearn import tree\n",
    "from pandas import DataFrame,Series\n",
    "from sklearn.preprocessing import Imputer\n",
    "from sklearn.tree import DecisionTreeRegressor, export_graphviz\n",
    "from sklearn.model_selection import cross_val_score\n",
    "from sklearn.cross_validation import train_test_split\n",
    "from sklearn.metrics import mean_squared_error, r2_score\n",
    "\n",
    "#print(os.environ[\"PATH\"])"
   ]
  },
  {
   "cell_type": "code",
   "execution_count": 83,
   "metadata": {
    "collapsed": false
   },
   "outputs": [
    {
     "name": "stdout",
     "output_type": "stream",
     "text": [
      "actor_1_facebook_likes       0\n",
      "actor_2_facebook_likes       0\n",
      "actor_3_facebook_likes       0\n",
      "blockbuster_month            0\n",
      "cast_total_facebook_likes    0\n",
      "director_facebook_likes      0\n",
      "dump_month                   0\n",
      "duration                     0\n",
      "imdb_score                   0\n",
      "movie_facebook_likes         0\n",
      "num_critic_for_reviews       0\n",
      "num_user_for_reviews         0\n",
      "num_voted_users              0\n",
      "production_budget            0\n",
      "title_year                   0\n",
      "worldwide_gross              0\n",
      "color_blackandwhite          0\n",
      "color_color                  0\n",
      "country_afghanistan          0\n",
      "country_argentina            0\n",
      "country_aruba                0\n",
      "country_australia            0\n",
      "country_austria              0\n",
      "country_bahamas              0\n",
      "country_belgium              0\n",
      "country_brazil               0\n",
      "country_bulgaria             0\n",
      "country_canada               0\n",
      "country_chile                0\n",
      "country_china                0\n",
      "                            ..\n",
      "language_russian             0\n",
      "language_slovenian           0\n",
      "language_somali              0\n",
      "language_spanish             0\n",
      "language_swahili             0\n",
      "language_swedish             0\n",
      "language_tamil               0\n",
      "language_telugu              0\n",
      "language_thai                0\n",
      "language_urdu                0\n",
      "language_usa                 0\n",
      "language_vietnamese          0\n",
      "language_zulu                0\n",
      "raiting_approved             0\n",
      "raiting_g                    0\n",
      "raiting_gp                   0\n",
      "raiting_m                    0\n",
      "raiting_nc17                 0\n",
      "raiting_notrated             0\n",
      "raiting_passed               0\n",
      "raiting_pg                   0\n",
      "raiting_pg13                 0\n",
      "raiting_r                    0\n",
      "raiting_tv14                 0\n",
      "raiting_tvg                  0\n",
      "raiting_tvma                 0\n",
      "raiting_tvpg                 0\n",
      "raiting_tvy7                 0\n",
      "raiting_unrated              0\n",
      "raiting_x                    0\n",
      "dtype: int64\n"
     ]
    },
    {
     "data": {
      "text/html": [
       "<div>\n",
       "<table border=\"1\" class=\"dataframe\">\n",
       "  <thead>\n",
       "    <tr style=\"text-align: right;\">\n",
       "      <th></th>\n",
       "      <th>actor_1_facebook_likes</th>\n",
       "      <th>actor_2_facebook_likes</th>\n",
       "      <th>actor_3_facebook_likes</th>\n",
       "      <th>blockbuster_month</th>\n",
       "      <th>cast_total_facebook_likes</th>\n",
       "      <th>director_facebook_likes</th>\n",
       "      <th>dump_month</th>\n",
       "      <th>duration</th>\n",
       "      <th>imdb_score</th>\n",
       "      <th>movie_facebook_likes</th>\n",
       "      <th>...</th>\n",
       "      <th>raiting_pg</th>\n",
       "      <th>raiting_pg13</th>\n",
       "      <th>raiting_r</th>\n",
       "      <th>raiting_tv14</th>\n",
       "      <th>raiting_tvg</th>\n",
       "      <th>raiting_tvma</th>\n",
       "      <th>raiting_tvpg</th>\n",
       "      <th>raiting_tvy7</th>\n",
       "      <th>raiting_unrated</th>\n",
       "      <th>raiting_x</th>\n",
       "    </tr>\n",
       "  </thead>\n",
       "  <tbody>\n",
       "    <tr>\n",
       "      <th>0</th>\n",
       "      <td>1000</td>\n",
       "      <td>942.0</td>\n",
       "      <td>862</td>\n",
       "      <td>1</td>\n",
       "      <td>4859</td>\n",
       "      <td>7000</td>\n",
       "      <td>0</td>\n",
       "      <td>178</td>\n",
       "      <td>7.8</td>\n",
       "      <td>34000</td>\n",
       "      <td>...</td>\n",
       "      <td>0</td>\n",
       "      <td>1</td>\n",
       "      <td>0</td>\n",
       "      <td>0</td>\n",
       "      <td>0</td>\n",
       "      <td>0</td>\n",
       "      <td>0</td>\n",
       "      <td>0</td>\n",
       "      <td>0</td>\n",
       "      <td>0</td>\n",
       "    </tr>\n",
       "    <tr>\n",
       "      <th>1</th>\n",
       "      <td>29000</td>\n",
       "      <td>14000.0</td>\n",
       "      <td>787</td>\n",
       "      <td>1</td>\n",
       "      <td>45239</td>\n",
       "      <td>7000</td>\n",
       "      <td>0</td>\n",
       "      <td>194</td>\n",
       "      <td>7.7</td>\n",
       "      <td>27000</td>\n",
       "      <td>...</td>\n",
       "      <td>0</td>\n",
       "      <td>1</td>\n",
       "      <td>0</td>\n",
       "      <td>0</td>\n",
       "      <td>0</td>\n",
       "      <td>0</td>\n",
       "      <td>0</td>\n",
       "      <td>0</td>\n",
       "      <td>0</td>\n",
       "      <td>0</td>\n",
       "    </tr>\n",
       "    <tr>\n",
       "      <th>2</th>\n",
       "      <td>3000</td>\n",
       "      <td>3000.0</td>\n",
       "      <td>878</td>\n",
       "      <td>1</td>\n",
       "      <td>8694</td>\n",
       "      <td>367</td>\n",
       "      <td>0</td>\n",
       "      <td>124</td>\n",
       "      <td>7.0</td>\n",
       "      <td>151000</td>\n",
       "      <td>...</td>\n",
       "      <td>0</td>\n",
       "      <td>1</td>\n",
       "      <td>0</td>\n",
       "      <td>0</td>\n",
       "      <td>0</td>\n",
       "      <td>0</td>\n",
       "      <td>0</td>\n",
       "      <td>0</td>\n",
       "      <td>0</td>\n",
       "      <td>0</td>\n",
       "    </tr>\n",
       "    <tr>\n",
       "      <th>3</th>\n",
       "      <td>26000</td>\n",
       "      <td>23000.0</td>\n",
       "      <td>14000</td>\n",
       "      <td>0</td>\n",
       "      <td>79155</td>\n",
       "      <td>0</td>\n",
       "      <td>0</td>\n",
       "      <td>140</td>\n",
       "      <td>7.2</td>\n",
       "      <td>95000</td>\n",
       "      <td>...</td>\n",
       "      <td>0</td>\n",
       "      <td>1</td>\n",
       "      <td>0</td>\n",
       "      <td>0</td>\n",
       "      <td>0</td>\n",
       "      <td>0</td>\n",
       "      <td>0</td>\n",
       "      <td>0</td>\n",
       "      <td>0</td>\n",
       "      <td>0</td>\n",
       "    </tr>\n",
       "    <tr>\n",
       "      <th>4</th>\n",
       "      <td>26000</td>\n",
       "      <td>21000.0</td>\n",
       "      <td>19000</td>\n",
       "      <td>0</td>\n",
       "      <td>97000</td>\n",
       "      <td>0</td>\n",
       "      <td>0</td>\n",
       "      <td>141</td>\n",
       "      <td>7.4</td>\n",
       "      <td>119000</td>\n",
       "      <td>...</td>\n",
       "      <td>0</td>\n",
       "      <td>1</td>\n",
       "      <td>0</td>\n",
       "      <td>0</td>\n",
       "      <td>0</td>\n",
       "      <td>0</td>\n",
       "      <td>0</td>\n",
       "      <td>0</td>\n",
       "      <td>0</td>\n",
       "      <td>0</td>\n",
       "    </tr>\n",
       "    <tr>\n",
       "      <th>5</th>\n",
       "      <td>10000</td>\n",
       "      <td>577.0</td>\n",
       "      <td>175</td>\n",
       "      <td>1</td>\n",
       "      <td>11064</td>\n",
       "      <td>0</td>\n",
       "      <td>0</td>\n",
       "      <td>130</td>\n",
       "      <td>7.3</td>\n",
       "      <td>46</td>\n",
       "      <td>...</td>\n",
       "      <td>0</td>\n",
       "      <td>1</td>\n",
       "      <td>0</td>\n",
       "      <td>0</td>\n",
       "      <td>0</td>\n",
       "      <td>0</td>\n",
       "      <td>0</td>\n",
       "      <td>0</td>\n",
       "      <td>0</td>\n",
       "      <td>0</td>\n",
       "    </tr>\n",
       "    <tr>\n",
       "      <th>6</th>\n",
       "      <td>1000</td>\n",
       "      <td>525.0</td>\n",
       "      <td>490</td>\n",
       "      <td>0</td>\n",
       "      <td>2601</td>\n",
       "      <td>69</td>\n",
       "      <td>0</td>\n",
       "      <td>102</td>\n",
       "      <td>7.5</td>\n",
       "      <td>58000</td>\n",
       "      <td>...</td>\n",
       "      <td>1</td>\n",
       "      <td>0</td>\n",
       "      <td>0</td>\n",
       "      <td>0</td>\n",
       "      <td>0</td>\n",
       "      <td>0</td>\n",
       "      <td>0</td>\n",
       "      <td>0</td>\n",
       "      <td>0</td>\n",
       "      <td>0</td>\n",
       "    </tr>\n",
       "    <tr>\n",
       "      <th>7</th>\n",
       "      <td>21000</td>\n",
       "      <td>3000.0</td>\n",
       "      <td>1000</td>\n",
       "      <td>0</td>\n",
       "      <td>25774</td>\n",
       "      <td>0</td>\n",
       "      <td>0</td>\n",
       "      <td>195</td>\n",
       "      <td>7.2</td>\n",
       "      <td>95000</td>\n",
       "      <td>...</td>\n",
       "      <td>0</td>\n",
       "      <td>1</td>\n",
       "      <td>0</td>\n",
       "      <td>0</td>\n",
       "      <td>0</td>\n",
       "      <td>0</td>\n",
       "      <td>0</td>\n",
       "      <td>0</td>\n",
       "      <td>0</td>\n",
       "      <td>0</td>\n",
       "    </tr>\n",
       "    <tr>\n",
       "      <th>8</th>\n",
       "      <td>7000</td>\n",
       "      <td>4000.0</td>\n",
       "      <td>1000</td>\n",
       "      <td>1</td>\n",
       "      <td>13636</td>\n",
       "      <td>22</td>\n",
       "      <td>0</td>\n",
       "      <td>91</td>\n",
       "      <td>6.4</td>\n",
       "      <td>71000</td>\n",
       "      <td>...</td>\n",
       "      <td>1</td>\n",
       "      <td>0</td>\n",
       "      <td>0</td>\n",
       "      <td>0</td>\n",
       "      <td>0</td>\n",
       "      <td>0</td>\n",
       "      <td>0</td>\n",
       "      <td>0</td>\n",
       "      <td>0</td>\n",
       "      <td>0</td>\n",
       "    </tr>\n",
       "    <tr>\n",
       "      <th>9</th>\n",
       "      <td>21000</td>\n",
       "      <td>19000.0</td>\n",
       "      <td>11000</td>\n",
       "      <td>0</td>\n",
       "      <td>66820</td>\n",
       "      <td>96</td>\n",
       "      <td>0</td>\n",
       "      <td>147</td>\n",
       "      <td>7.9</td>\n",
       "      <td>80000</td>\n",
       "      <td>...</td>\n",
       "      <td>0</td>\n",
       "      <td>1</td>\n",
       "      <td>0</td>\n",
       "      <td>0</td>\n",
       "      <td>0</td>\n",
       "      <td>0</td>\n",
       "      <td>0</td>\n",
       "      <td>0</td>\n",
       "      <td>0</td>\n",
       "      <td>0</td>\n",
       "    </tr>\n",
       "  </tbody>\n",
       "</table>\n",
       "<p>10 rows × 139 columns</p>\n",
       "</div>"
      ],
      "text/plain": [
       "   actor_1_facebook_likes  actor_2_facebook_likes  actor_3_facebook_likes  \\\n",
       "0                    1000                   942.0                     862   \n",
       "1                   29000                 14000.0                     787   \n",
       "2                    3000                  3000.0                     878   \n",
       "3                   26000                 23000.0                   14000   \n",
       "4                   26000                 21000.0                   19000   \n",
       "5                   10000                   577.0                     175   \n",
       "6                    1000                   525.0                     490   \n",
       "7                   21000                  3000.0                    1000   \n",
       "8                    7000                  4000.0                    1000   \n",
       "9                   21000                 19000.0                   11000   \n",
       "\n",
       "   blockbuster_month  cast_total_facebook_likes  director_facebook_likes  \\\n",
       "0                  1                       4859                     7000   \n",
       "1                  1                      45239                     7000   \n",
       "2                  1                       8694                      367   \n",
       "3                  0                      79155                        0   \n",
       "4                  0                      97000                        0   \n",
       "5                  1                      11064                        0   \n",
       "6                  0                       2601                       69   \n",
       "7                  0                      25774                        0   \n",
       "8                  1                      13636                       22   \n",
       "9                  0                      66820                       96   \n",
       "\n",
       "   dump_month  duration  imdb_score  movie_facebook_likes    ...      \\\n",
       "0           0       178         7.8                 34000    ...       \n",
       "1           0       194         7.7                 27000    ...       \n",
       "2           0       124         7.0                151000    ...       \n",
       "3           0       140         7.2                 95000    ...       \n",
       "4           0       141         7.4                119000    ...       \n",
       "5           0       130         7.3                    46    ...       \n",
       "6           0       102         7.5                 58000    ...       \n",
       "7           0       195         7.2                 95000    ...       \n",
       "8           0        91         6.4                 71000    ...       \n",
       "9           0       147         7.9                 80000    ...       \n",
       "\n",
       "   raiting_pg  raiting_pg13  raiting_r  raiting_tv14  raiting_tvg  \\\n",
       "0           0             1          0             0            0   \n",
       "1           0             1          0             0            0   \n",
       "2           0             1          0             0            0   \n",
       "3           0             1          0             0            0   \n",
       "4           0             1          0             0            0   \n",
       "5           0             1          0             0            0   \n",
       "6           1             0          0             0            0   \n",
       "7           0             1          0             0            0   \n",
       "8           1             0          0             0            0   \n",
       "9           0             1          0             0            0   \n",
       "\n",
       "   raiting_tvma  raiting_tvpg  raiting_tvy7  raiting_unrated  raiting_x  \n",
       "0             0             0             0                0          0  \n",
       "1             0             0             0                0          0  \n",
       "2             0             0             0                0          0  \n",
       "3             0             0             0                0          0  \n",
       "4             0             0             0                0          0  \n",
       "5             0             0             0                0          0  \n",
       "6             0             0             0                0          0  \n",
       "7             0             0             0                0          0  \n",
       "8             0             0             0                0          0  \n",
       "9             0             0             0                0          0  \n",
       "\n",
       "[10 rows x 139 columns]"
      ]
     },
     "execution_count": 83,
     "metadata": {},
     "output_type": "execute_result"
    }
   ],
   "source": [
    "#movie_file = pd.read_csv(input_folder+\"/movie_metadata_cleaned_filled_values.csv\")\n",
    "movie_file = pd.read_csv(input_folder+\"/movie_metadata_cleaned_categ_num_only.csv\")\n",
    "#movie_file = pd.read_csv(input_folder+\"/movie_metadata_cleaned_no_vector_num_only.csv\")\n",
    "movie_data= DataFrame(movie_file)\n",
    "movie_data = movie_data.drop('Unnamed: 0', axis=1)\n",
    "\n",
    "#print(movie_data.isnull().sum())\n",
    "\n",
    "movie_data.fillna(movie_data.mean(), inplace=True)\n",
    "\n",
    "print(movie_data.isnull().sum())\n",
    "\n",
    "#print(movie_data.iat[200,14])\n",
    "#where(np.isnan(movie_data))\n",
    "movie_data.head(10)\n"
   ]
  },
  {
   "cell_type": "code",
   "execution_count": 84,
   "metadata": {
    "collapsed": false
   },
   "outputs": [
    {
     "data": {
      "text/plain": [
       "DecisionTreeRegressor(criterion='mse', max_depth=None, max_features=None,\n",
       "           max_leaf_nodes=None, min_impurity_split=1e-07,\n",
       "           min_samples_leaf=1, min_samples_split=2,\n",
       "           min_weight_fraction_leaf=0.0, presort=False, random_state=None,\n",
       "           splitter='best')"
      ]
     },
     "execution_count": 84,
     "metadata": {},
     "output_type": "execute_result"
    }
   ],
   "source": [
    "#define predictors and predicted values\n",
    "X = movie_data.drop(['worldwide_gross', 'title_year'], axis=1)\n",
    "y = movie_data.worldwide_gross\n",
    "\n",
    "from sklearn import preprocessing\n",
    "\n",
    "####standardize data to address different scales.\n",
    "standardized_X = preprocessing.scale(X)\n",
    "standardized_y = preprocessing.scale(y)\n",
    "#print(standardized_y)\n",
    "\n",
    "#### split into training and testing sets\n",
    "X_train, X_test, y_train, y_test = train_test_split(standardized_X, standardized_y, train_size=0.7, random_state=0)\n",
    "\n",
    "###cannot prune tree; using 'max_depth' instead, that is if we want to indicate how far tree should go\n",
    "reg_model = DecisionTreeRegressor()\n",
    "\n",
    "##Train the model using the training sets \n",
    "reg_model.fit(X_train, y_train)"
   ]
  },
  {
   "cell_type": "code",
   "execution_count": null,
   "metadata": {
    "collapsed": false
   },
   "outputs": [],
   "source": [
    "####visualize tree\n",
    "tree.export_graphviz(reg_model, out_file='imdb_tree.dot') \n",
    "from IPython.display import Image  \n",
    "dot_data = tree.export_graphviz(reg_model, out_file=None, \n",
    "                                feature_names = X.columns, filled=True, rounded=True,  \n",
    "                         special_characters=True)  \n",
    "graph = pydotplus.graph_from_dot_data(dot_data)\n",
    "graph.write_pdf(\"imdb_tree.pdf\") \n",
    "Image(graph.create_png())  \n",
    "\n",
    "###Resultant tree graph scaled by by 0.15-0.17 to fit"
   ]
  },
  {
   "cell_type": "code",
   "execution_count": 45,
   "metadata": {
    "collapsed": false
   },
   "outputs": [],
   "source": [
    "#pred = reg_model.predict(X_test)\n",
    "#plt.scatter(pred, y_test, label='worldwide_gross')\n",
    "#plt.plot([0, 1], [0, 1], '--k', transform=plt.gca().transAxes)\n",
    "#plt.xlabel('pred')\n",
    "#plt.ylabel('y_test')\n",
    "#plt.show()"
   ]
  },
  {
   "cell_type": "code",
   "execution_count": 70,
   "metadata": {
    "collapsed": false
   },
   "outputs": [
    {
     "data": {
      "text/plain": [
       "0.54451358357130408"
      ]
     },
     "execution_count": 70,
     "metadata": {},
     "output_type": "execute_result"
    }
   ],
   "source": [
    "mean_squared_error(y_test, pred)"
   ]
  },
  {
   "cell_type": "code",
   "execution_count": 71,
   "metadata": {
    "collapsed": false
   },
   "outputs": [
    {
     "data": {
      "text/plain": [
       "0.42830319693885238"
      ]
     },
     "execution_count": 71,
     "metadata": {},
     "output_type": "execute_result"
    }
   ],
   "source": [
    "r2_score(y_test, pred, multioutput='variance_weighted')"
   ]
  },
  {
   "cell_type": "code",
   "execution_count": 72,
   "metadata": {
    "collapsed": false
   },
   "outputs": [
    {
     "name": "stdout",
     "output_type": "stream",
     "text": [
      "[0.9082595090402924, 0.89519983215822307, 0.86785435848649939, 0.84144508250647421, 0.81731615837573524, 0.81394960866442245, 0.82582392932825044, 0.82174957849622388]\n",
      "Best score: 0.813949608664\n",
      "Best depth: 6\n"
     ]
    }
   ],
   "source": [
    "#####cross validation\n",
    "all_scores = []\n",
    "best_score = -1\n",
    "best_depth = 0\n",
    "\n",
    "for i in range(1,9):\n",
    "    treereg = DecisionTreeRegressor(max_depth=i, random_state=1)\n",
    "    scores = cross_val_score(treereg, standardized_X, standardized_y, cv=3, scoring='neg_mean_squared_error')\n",
    "    current_score = np.mean(np.sqrt(-scores))\n",
    "    \n",
    "    if current_score < best_score or best_score == -1:\n",
    "        best_score = current_score\n",
    "        best_depth = i\n",
    "    all_scores.append(current_score)\n",
    "print all_scores\n",
    "print \"Best score: %s\" % best_score\n",
    "print \"Best depth: %s\" % best_depth\n",
    "\n",
    "#plt.plot(range(1, 9), all_scores)\n",
    "#plt.figure()\n",
    "#plt.xlabel('x=max tree depth')\n"
   ]
  },
  {
   "cell_type": "code",
   "execution_count": 73,
   "metadata": {
    "collapsed": false
   },
   "outputs": [
    {
     "data": {
      "text/plain": [
       "DecisionTreeRegressor(criterion='mse', max_depth=6, max_features=None,\n",
       "           max_leaf_nodes=None, min_impurity_split=1e-07,\n",
       "           min_samples_leaf=1, min_samples_split=2,\n",
       "           min_weight_fraction_leaf=0.0, presort=False, random_state=None,\n",
       "           splitter='best')"
      ]
     },
     "execution_count": 73,
     "metadata": {},
     "output_type": "execute_result"
    }
   ],
   "source": [
    "#### split into training and testing sets\n",
    "X_train, X_test, y_train, y_test = train_test_split(standardized_X, standardized_y, train_size=0.7, random_state=0)\n",
    "\n",
    "###cannot prune tree; using 'max_depth' instead, that is if we want to indicate how far tree should go\n",
    "reg_model = DecisionTreeRegressor(max_depth=6)\n",
    "\n",
    "##Train the model using the training sets \n",
    "reg_model.fit(X_train, y_train)"
   ]
  },
  {
   "cell_type": "code",
   "execution_count": 107,
   "metadata": {
    "collapsed": false
   },
   "outputs": [
    {
     "name": "stdout",
     "output_type": "stream",
     "text": [
      "[0.9082595090402924, 0.89519983215822307, 0.86785435848649939, 0.84144508250647421, 0.81731615837573524, 0.81394960866442245, 0.82582392932825044, 0.82174957849622388]\n",
      "Best score: 0.813949608664\n",
      "Best depth: 6\n",
      "[-3.14858234 -0.21539623 -0.05140025]\n",
      "1.13845960665\n"
     ]
    }
   ],
   "source": [
    "all_scores = []\n",
    "best_score = -1\n",
    "best_depth = 0\n",
    "\n",
    "for i in range(1,9):\n",
    "    treereg = DecisionTreeRegressor(max_depth=i, random_state=1)\n",
    "    crossvalidation = KFold(n=X.shape[0], n_folds=10,shuffle=True, random_state=1)\n",
    "    scores = cross_val_score(tree_reg, standardized_X, standardized_y,\n",
    "    scoring='neg_mean_squared_error', cv=crossvalidation,n_jobs=1)\n",
    "    \n",
    "    #scores = cross_val_score(treereg, standardized_X, standardized_y, cv=3, scoring='neg_mean_squared_error')\n",
    "    current_score = np.mean(np.sqrt(-scores))\n",
    "    \n",
    "    \n",
    "    if current_score < best_score or best_score == -1:\n",
    "        best_score = current_score\n",
    "        best_depth = i\n",
    "    all_scores.append(current_score)\n",
    "print all_scores\n",
    "print \"Best score: %s\" % best_score\n",
    "print \"Best depth: %s\" % best_depth\n",
    "\n",
    "\n",
    "#print scores\n",
    "#print np.mean(np.abs(scores))"
   ]
  },
  {
   "cell_type": "code",
   "execution_count": 75,
   "metadata": {
    "collapsed": false
   },
   "outputs": [
    {
     "data": {
      "text/plain": [
       "0.4307692800351709"
      ]
     },
     "execution_count": 75,
     "metadata": {},
     "output_type": "execute_result"
    }
   ],
   "source": [
    "pred = reg_model.predict(X_test)\n",
    "mean_squared_error(y_test, pred) #######reduced error after cross-validation, using max-depth of 6"
   ]
  },
  {
   "cell_type": "code",
   "execution_count": 77,
   "metadata": {
    "collapsed": false
   },
   "outputs": [
    {
     "data": {
      "text/plain": [
       "0.54772584618027187"
      ]
     },
     "execution_count": 77,
     "metadata": {},
     "output_type": "execute_result"
    }
   ],
   "source": [
    "reg_model.score(X_test, y_test)#######increased score after cross-validation, using max-depth of 6"
   ]
  },
  {
   "cell_type": "code",
   "execution_count": 113,
   "metadata": {
    "collapsed": false
   },
   "outputs": [
    {
     "name": "stdout",
     "output_type": "stream",
     "text": [
      "n 2 Important features(> 15 % of max importance):n Index([u'production_budget', u'num_voted_users'], dtype='object')\n",
      "nFeatures sorted by importance (DESC):n Index([u'production_budget', u'num_voted_users'], dtype='object')\n"
     ]
    },
    {
     "data": {
      "image/png": "[encoded data removed]",
      "text/plain": [
       "<matplotlib.figure.Figure at 0xdce726d8>"
      ]
     },
     "metadata": {},
     "output_type": "display_data"
    }
   ],
   "source": [
    "####Feature importance\n",
    "feature_importance = reg_model.feature_importances_\n",
    " \n",
    "# make importances relative to max importance\n",
    "feature_importance = 100.0 * (feature_importance / feature_importance.max())\n",
    " \n",
    "# A threshold below which to drop features from the final data set. Specifically, this number represents\n",
    "# the percentage of the most important feature's importance value\n",
    "fi_threshold = 15\n",
    " \n",
    "# Get the indexes of all features over the importance threshold\n",
    "important_idx = np.where(feature_importance > fi_threshold)[0]\n",
    " \n",
    "# Create a list of all the feature names above the importance threshold\n",
    "important_features = X.columns[important_idx]\n",
    "print \"n\", important_features.shape[0], \"Important features(>\", fi_threshold, \"% of max importance):n\",important_features\n",
    " \n",
    "# Get the sorted indexes of important features\n",
    "sorted_idx = np.argsort(feature_importance[important_idx])[::-1]\n",
    "print \"nFeatures sorted by importance (DESC):n\", important_features[sorted_idx]\n",
    " \n",
    "# Adapted from http://scikit-learn.org/stable/auto_examples/ensemble/plot_gradient_boosting_regression.html\n",
    "pos = np.arange(sorted_idx.shape[0]) + .5\n",
    "plt.subplot(1, 2, 2)\n",
    "plt.barh(pos, feature_importance[important_idx][sorted_idx[::-1]], align='center')\n",
    "plt.yticks(pos, important_features[sorted_idx[::-1]])\n",
    "plt.xlabel('Relative Importance')\n",
    "plt.title('Variable Importance')\n",
    "plt.draw()\n",
    "plt.show()"
   ]
  },
  {
   "cell_type": "code",
   "execution_count": 78,
   "metadata": {
    "collapsed": false
   },
   "outputs": [
    {
     "data": {
      "text/plain": [
       "DecisionTreeRegressor(criterion='mse', max_depth=6, max_features=None,\n",
       "           max_leaf_nodes=None, min_impurity_split=1e-07,\n",
       "           min_samples_leaf=1, min_samples_split=2,\n",
       "           min_weight_fraction_leaf=0.0, presort=False, random_state=None,\n",
       "           splitter='best')"
      ]
     },
     "execution_count": 78,
     "metadata": {},
     "output_type": "execute_result"
    }
   ],
   "source": [
    "X = movie_data[['production_budget','num_voted_users']]\n",
    "y = movie_data.worldwide_gross\n",
    "\n",
    "from sklearn import preprocessing\n",
    "\n",
    "####standardize data to address different scales.\n",
    "standardized_X = preprocessing.scale(X)\n",
    "standardized_y = preprocessing.scale(y)\n",
    "#print(standardized_y)\n",
    "\n",
    "#### split into training and testing sets\n",
    "X_train, X_test, y_train, y_test = train_test_split(standardized_X, standardized_y, train_size=0.7, random_state=0)\n",
    "\n",
    "###cannot prune tree; using 'max_depth' instead, that is if we want to indicate how far tree should go\n",
    "reg_model = DecisionTreeRegressor(max_depth=6)\n",
    "\n",
    "##Train the model using the training sets \n",
    "reg_model.fit(X_train, y_train)"
   ]
  },
  {
   "cell_type": "code",
   "execution_count": 79,
   "metadata": {
    "collapsed": false
   },
   "outputs": [
    {
     "data": {
      "image/png": "[encoded data removed]",
      "text/plain": [
       "<matplotlib.figure.Figure at 0x13f208d0>"
      ]
     },
     "metadata": {},
     "output_type": "display_data"
    }
   ],
   "source": [
    "pred = reg_model.predict(X_test)\n",
    "plt.scatter(pred, y_test, label='worldwide_gross')\n",
    "plt.plot([0, 1], [0, 1], '--k', transform=plt.gca().transAxes)\n",
    "plt.xlabel('pred')\n",
    "plt.ylabel('y_test')\n",
    "plt.show()"
   ]
  },
  {
   "cell_type": "code",
   "execution_count": 80,
   "metadata": {
    "collapsed": false
   },
   "outputs": [
    {
     "data": {
      "text/plain": [
       "0.35058928642203929"
      ]
     },
     "execution_count": 80,
     "metadata": {},
     "output_type": "execute_result"
    }
   ],
   "source": [
    "mean_squared_error(y_test, pred) ###reduced error after feature importance"
   ]
  },
  {
   "cell_type": "code",
   "execution_count": 81,
   "metadata": {
    "collapsed": false
   },
   "outputs": [
    {
     "data": {
      "text/plain": [
       "0.63190858725616639"
      ]
     },
     "execution_count": 81,
     "metadata": {},
     "output_type": "execute_result"
    }
   ],
   "source": [
    "r2_score(y_test, pred, multioutput='variance_weighted') ###increased error after feature importance"
   ]
  },
  {
   "cell_type": "code",
   "execution_count": null,
   "metadata": {
    "collapsed": true
   },
   "outputs": [],
   "source": []
  }
 ],
 "metadata": {
  "anaconda-cloud": {},
  "kernelspec": {
   "display_name": "Python [default]",
   "language": "python",
   "name": "python2"
  },
  "language_info": {
   "codemirror_mode": {
    "name": "ipython",
    "version": 2
   },
   "file_extension": ".py",
   "mimetype": "text/x-python",
   "name": "python",
   "nbconvert_exporter": "python",
   "pygments_lexer": "ipython2",
   "version": "2.7.9"
  }
 },
 "nbformat": 4,
 "nbformat_minor": 1
}
